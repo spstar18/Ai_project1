{
  "nbformat": 4,
  "nbformat_minor": 0,
  "metadata": {
    "colab": {
      "name": "행복에 관하여(30410_김우진).ipynb",
      "provenance": [],
      "collapsed_sections": [],
      "include_colab_link": true
    },
    "kernelspec": {
      "display_name": "Python 3",
      "language": "python",
      "name": "python3"
    },
    "language_info": {
      "codemirror_mode": {
        "name": "ipython",
        "version": 3
      },
      "file_extension": ".py",
      "mimetype": "text/x-python",
      "name": "python",
      "nbconvert_exporter": "python",
      "pygments_lexer": "ipython3",
      "version": "3.6.5"
    }
  },
  "cells": [
    {
      "cell_type": "markdown",
      "metadata": {
        "id": "view-in-github",
        "colab_type": "text"
      },
      "source": [
        "<a href=\"https://colab.research.google.com/github/spstar18/Ai_project1/blob/main/happiness_report.ipynb\" target=\"_parent\"><img src=\"https://colab.research.google.com/assets/colab-badge.svg\" alt=\"Open In Colab\"/></a>"
      ]
    },
    {
      "cell_type": "code",
      "metadata": {
        "id": "u7g7Zlgp_S6v"
      },
      "source": [
        "# 데이터 가져오기"
      ],
      "execution_count": null,
      "outputs": []
    },
    {
      "cell_type": "markdown",
      "metadata": {
        "id": "gJvDilF4_S6q"
      },
      "source": [
        "# 프로젝트 이름\n",
        "- 학번 : 30410\n",
        "- 이름 : 김우진\n",
        "\n",
        "## 1. 주제\n",
        "\n",
        "카글을 둘러보던 중 흥미로운 데이터를 발견하였다. 바로 국가별 행복 보고서이다. 이 데이터에는 국가별 행복지수가 나와있으며 그 국가의 1인당 gdp, 사회 지원, 부패인식, 건강 수명, 삶의 자유, 관대함 등의 데이터가 나와있다. \n",
        "\n",
        "그래서 이 데이터를 사용하여 국가별 행복지수 등을 알아보고 무엇이 행복에 영향을 주었는지 알아보려 한다.\n",
        "\n",
        "- 질문 \n",
        "\n",
        ">1. 한국의 행복지수와 그 위치\n",
        "2. 어느 나라의 행복지수가 높은가\n",
        "3. 무엇이 행복에 영향을 주는가\n",
        "\n",
        "\n",
        "## 2. 데이터 수집\n",
        "- 데이터 수집 방법 : 데이터포털 사이트 검색\n",
        "- 데이터 수집 사이트 : https://www.kaggle.com/datasets"
      ]
    },
    {
      "cell_type": "markdown",
      "metadata": {
        "id": "prXKuEOo_S6w"
      },
      "source": [
        "## 3. 탐색적 데이터 분석 과정\n",
        "\n",
        "#### 표를 활용하여 분석하기"
      ]
    },
    {
      "cell_type": "code",
      "metadata": {
        "id": "ltpqAW4G_S6w",
        "colab": {
          "base_uri": "https://localhost:8080/",
          "height": 211
        },
        "outputId": "af51f450-ba22-4f81-eedf-2f280b28f72f"
      },
      "source": [
        "import pandas as pd\n",
        "\n",
        "from google.colab import drive \n",
        "drive.mount('/content/drive')\n",
        "\n",
        "filename='/content/drive/MyDrive/colab/Ai test/world-happiness-report-2021.csv'\n",
        "\n",
        "hp_report21=pd.read_csv(filename)\n",
        "# hp_report=pd.read_csv('world-happiness-report.csv')\n",
        "\n",
        "\n",
        "#행복지수 상위 5국가\n",
        "hp_report21.sort_values('Ladder score', ascending=False)[['Country name', 'Ladder score']].head(5)"
      ],
      "execution_count": null,
      "outputs": [
        {
          "output_type": "stream",
          "text": [
            "Drive already mounted at /content/drive; to attempt to forcibly remount, call drive.mount(\"/content/drive\", force_remount=True).\n"
          ],
          "name": "stdout"
        },
        {
          "output_type": "execute_result",
          "data": {
            "text/html": [
              "<div>\n",
              "<style scoped>\n",
              "    .dataframe tbody tr th:only-of-type {\n",
              "        vertical-align: middle;\n",
              "    }\n",
              "\n",
              "    .dataframe tbody tr th {\n",
              "        vertical-align: top;\n",
              "    }\n",
              "\n",
              "    .dataframe thead th {\n",
              "        text-align: right;\n",
              "    }\n",
              "</style>\n",
              "<table border=\"1\" class=\"dataframe\">\n",
              "  <thead>\n",
              "    <tr style=\"text-align: right;\">\n",
              "      <th></th>\n",
              "      <th>Country name</th>\n",
              "      <th>Ladder score</th>\n",
              "    </tr>\n",
              "  </thead>\n",
              "  <tbody>\n",
              "    <tr>\n",
              "      <th>0</th>\n",
              "      <td>Finland</td>\n",
              "      <td>7.842</td>\n",
              "    </tr>\n",
              "    <tr>\n",
              "      <th>1</th>\n",
              "      <td>Denmark</td>\n",
              "      <td>7.620</td>\n",
              "    </tr>\n",
              "    <tr>\n",
              "      <th>2</th>\n",
              "      <td>Switzerland</td>\n",
              "      <td>7.571</td>\n",
              "    </tr>\n",
              "    <tr>\n",
              "      <th>3</th>\n",
              "      <td>Iceland</td>\n",
              "      <td>7.554</td>\n",
              "    </tr>\n",
              "    <tr>\n",
              "      <th>4</th>\n",
              "      <td>Netherlands</td>\n",
              "      <td>7.464</td>\n",
              "    </tr>\n",
              "  </tbody>\n",
              "</table>\n",
              "</div>"
            ],
            "text/plain": [
              "  Country name  Ladder score\n",
              "0      Finland         7.842\n",
              "1      Denmark         7.620\n",
              "2  Switzerland         7.571\n",
              "3      Iceland         7.554\n",
              "4  Netherlands         7.464"
            ]
          },
          "metadata": {
            "tags": []
          },
          "execution_count": 46
        }
      ]
    },
    {
      "cell_type": "code",
      "metadata": {
        "colab": {
          "base_uri": "https://localhost:8080/",
          "height": 194
        },
        "id": "MiERVb9SjsiE",
        "outputId": "c90b1d77-5a26-4ef4-dc97-9c7fa9be9e8b"
      },
      "source": [
        "#행복지수 하위 5국가\n",
        "hp_report21.sort_values('Ladder score', ascending=False)[['Country name', 'Ladder score']].tail(5)"
      ],
      "execution_count": null,
      "outputs": [
        {
          "output_type": "execute_result",
          "data": {
            "text/html": [
              "<div>\n",
              "<style scoped>\n",
              "    .dataframe tbody tr th:only-of-type {\n",
              "        vertical-align: middle;\n",
              "    }\n",
              "\n",
              "    .dataframe tbody tr th {\n",
              "        vertical-align: top;\n",
              "    }\n",
              "\n",
              "    .dataframe thead th {\n",
              "        text-align: right;\n",
              "    }\n",
              "</style>\n",
              "<table border=\"1\" class=\"dataframe\">\n",
              "  <thead>\n",
              "    <tr style=\"text-align: right;\">\n",
              "      <th></th>\n",
              "      <th>Country name</th>\n",
              "      <th>Ladder score</th>\n",
              "    </tr>\n",
              "  </thead>\n",
              "  <tbody>\n",
              "    <tr>\n",
              "      <th>144</th>\n",
              "      <td>Lesotho</td>\n",
              "      <td>3.512</td>\n",
              "    </tr>\n",
              "    <tr>\n",
              "      <th>145</th>\n",
              "      <td>Botswana</td>\n",
              "      <td>3.467</td>\n",
              "    </tr>\n",
              "    <tr>\n",
              "      <th>146</th>\n",
              "      <td>Rwanda</td>\n",
              "      <td>3.415</td>\n",
              "    </tr>\n",
              "    <tr>\n",
              "      <th>147</th>\n",
              "      <td>Zimbabwe</td>\n",
              "      <td>3.145</td>\n",
              "    </tr>\n",
              "    <tr>\n",
              "      <th>148</th>\n",
              "      <td>Afghanistan</td>\n",
              "      <td>2.523</td>\n",
              "    </tr>\n",
              "  </tbody>\n",
              "</table>\n",
              "</div>"
            ],
            "text/plain": [
              "    Country name  Ladder score\n",
              "144      Lesotho         3.512\n",
              "145     Botswana         3.467\n",
              "146       Rwanda         3.415\n",
              "147     Zimbabwe         3.145\n",
              "148  Afghanistan         2.523"
            ]
          },
          "metadata": {
            "tags": []
          },
          "execution_count": 47
        }
      ]
    },
    {
      "cell_type": "code",
      "metadata": {
        "colab": {
          "base_uri": "https://localhost:8080/",
          "height": 198
        },
        "id": "K-5cBm4RXx7T",
        "outputId": "0d0793be-4101-4666-b620-962b30604482"
      },
      "source": [
        "#한국의 조사결과\n",
        "hp_report21[hp_report21['Country name']=='South Korea']"
      ],
      "execution_count": null,
      "outputs": [
        {
          "output_type": "execute_result",
          "data": {
            "text/html": [
              "<div>\n",
              "<style scoped>\n",
              "    .dataframe tbody tr th:only-of-type {\n",
              "        vertical-align: middle;\n",
              "    }\n",
              "\n",
              "    .dataframe tbody tr th {\n",
              "        vertical-align: top;\n",
              "    }\n",
              "\n",
              "    .dataframe thead th {\n",
              "        text-align: right;\n",
              "    }\n",
              "</style>\n",
              "<table border=\"1\" class=\"dataframe\">\n",
              "  <thead>\n",
              "    <tr style=\"text-align: right;\">\n",
              "      <th></th>\n",
              "      <th>Country name</th>\n",
              "      <th>Regional indicator</th>\n",
              "      <th>Ladder score</th>\n",
              "      <th>Standard error of ladder score</th>\n",
              "      <th>upperwhisker</th>\n",
              "      <th>lowerwhisker</th>\n",
              "      <th>Logged GDP per capita</th>\n",
              "      <th>Social support</th>\n",
              "      <th>Healthy life expectancy</th>\n",
              "      <th>Freedom to make life choices</th>\n",
              "      <th>Generosity</th>\n",
              "      <th>Perceptions of corruption</th>\n",
              "      <th>Ladder score in Dystopia</th>\n",
              "      <th>Explained by: Log GDP per capita</th>\n",
              "      <th>Explained by: Social support</th>\n",
              "      <th>Explained by: Healthy life expectancy</th>\n",
              "      <th>Explained by: Freedom to make life choices</th>\n",
              "      <th>Explained by: Generosity</th>\n",
              "      <th>Explained by: Perceptions of corruption</th>\n",
              "      <th>Dystopia + residual</th>\n",
              "    </tr>\n",
              "  </thead>\n",
              "  <tbody>\n",
              "    <tr>\n",
              "      <th>61</th>\n",
              "      <td>South Korea</td>\n",
              "      <td>East Asia</td>\n",
              "      <td>5.845</td>\n",
              "      <td>0.042</td>\n",
              "      <td>5.928</td>\n",
              "      <td>5.763</td>\n",
              "      <td>10.651</td>\n",
              "      <td>0.799</td>\n",
              "      <td>73.9</td>\n",
              "      <td>0.672</td>\n",
              "      <td>-0.083</td>\n",
              "      <td>0.727</td>\n",
              "      <td>2.43</td>\n",
              "      <td>1.403</td>\n",
              "      <td>0.758</td>\n",
              "      <td>0.801</td>\n",
              "      <td>0.353</td>\n",
              "      <td>0.134</td>\n",
              "      <td>0.135</td>\n",
              "      <td>2.262</td>\n",
              "    </tr>\n",
              "  </tbody>\n",
              "</table>\n",
              "</div>"
            ],
            "text/plain": [
              "   Country name  ... Dystopia + residual\n",
              "61  South Korea  ...               2.262\n",
              "\n",
              "[1 rows x 20 columns]"
            ]
          },
          "metadata": {
            "tags": []
          },
          "execution_count": 48
        }
      ]
    },
    {
      "cell_type": "code",
      "metadata": {
        "colab": {
          "base_uri": "https://localhost:8080/",
          "height": 429
        },
        "id": "KZYLDJV2hQCS",
        "outputId": "1a2c50a1-46c4-4861-dc87-5892bf067d75"
      },
      "source": [
        "#동아시아의 행복지수\n",
        "hp_report21[hp_report21['Regional indicator']=='East Asia']"
      ],
      "execution_count": null,
      "outputs": [
        {
          "output_type": "execute_result",
          "data": {
            "text/html": [
              "<div>\n",
              "<style scoped>\n",
              "    .dataframe tbody tr th:only-of-type {\n",
              "        vertical-align: middle;\n",
              "    }\n",
              "\n",
              "    .dataframe tbody tr th {\n",
              "        vertical-align: top;\n",
              "    }\n",
              "\n",
              "    .dataframe thead th {\n",
              "        text-align: right;\n",
              "    }\n",
              "</style>\n",
              "<table border=\"1\" class=\"dataframe\">\n",
              "  <thead>\n",
              "    <tr style=\"text-align: right;\">\n",
              "      <th></th>\n",
              "      <th>Country name</th>\n",
              "      <th>Regional indicator</th>\n",
              "      <th>Ladder score</th>\n",
              "      <th>Standard error of ladder score</th>\n",
              "      <th>upperwhisker</th>\n",
              "      <th>lowerwhisker</th>\n",
              "      <th>Logged GDP per capita</th>\n",
              "      <th>Social support</th>\n",
              "      <th>Healthy life expectancy</th>\n",
              "      <th>Freedom to make life choices</th>\n",
              "      <th>Generosity</th>\n",
              "      <th>Perceptions of corruption</th>\n",
              "      <th>Ladder score in Dystopia</th>\n",
              "      <th>Explained by: Log GDP per capita</th>\n",
              "      <th>Explained by: Social support</th>\n",
              "      <th>Explained by: Healthy life expectancy</th>\n",
              "      <th>Explained by: Freedom to make life choices</th>\n",
              "      <th>Explained by: Generosity</th>\n",
              "      <th>Explained by: Perceptions of corruption</th>\n",
              "      <th>Dystopia + residual</th>\n",
              "    </tr>\n",
              "  </thead>\n",
              "  <tbody>\n",
              "    <tr>\n",
              "      <th>23</th>\n",
              "      <td>Taiwan Province of China</td>\n",
              "      <td>East Asia</td>\n",
              "      <td>6.584</td>\n",
              "      <td>0.038</td>\n",
              "      <td>6.659</td>\n",
              "      <td>6.510</td>\n",
              "      <td>10.871</td>\n",
              "      <td>0.898</td>\n",
              "      <td>69.600</td>\n",
              "      <td>0.784</td>\n",
              "      <td>-0.070</td>\n",
              "      <td>0.721</td>\n",
              "      <td>2.43</td>\n",
              "      <td>1.480</td>\n",
              "      <td>0.982</td>\n",
              "      <td>0.665</td>\n",
              "      <td>0.490</td>\n",
              "      <td>0.142</td>\n",
              "      <td>0.139</td>\n",
              "      <td>2.687</td>\n",
              "    </tr>\n",
              "    <tr>\n",
              "      <th>55</th>\n",
              "      <td>Japan</td>\n",
              "      <td>East Asia</td>\n",
              "      <td>5.940</td>\n",
              "      <td>0.040</td>\n",
              "      <td>6.020</td>\n",
              "      <td>5.861</td>\n",
              "      <td>10.611</td>\n",
              "      <td>0.884</td>\n",
              "      <td>75.100</td>\n",
              "      <td>0.796</td>\n",
              "      <td>-0.258</td>\n",
              "      <td>0.638</td>\n",
              "      <td>2.43</td>\n",
              "      <td>1.389</td>\n",
              "      <td>0.949</td>\n",
              "      <td>0.838</td>\n",
              "      <td>0.504</td>\n",
              "      <td>0.020</td>\n",
              "      <td>0.192</td>\n",
              "      <td>2.048</td>\n",
              "    </tr>\n",
              "    <tr>\n",
              "      <th>61</th>\n",
              "      <td>South Korea</td>\n",
              "      <td>East Asia</td>\n",
              "      <td>5.845</td>\n",
              "      <td>0.042</td>\n",
              "      <td>5.928</td>\n",
              "      <td>5.763</td>\n",
              "      <td>10.651</td>\n",
              "      <td>0.799</td>\n",
              "      <td>73.900</td>\n",
              "      <td>0.672</td>\n",
              "      <td>-0.083</td>\n",
              "      <td>0.727</td>\n",
              "      <td>2.43</td>\n",
              "      <td>1.403</td>\n",
              "      <td>0.758</td>\n",
              "      <td>0.801</td>\n",
              "      <td>0.353</td>\n",
              "      <td>0.134</td>\n",
              "      <td>0.135</td>\n",
              "      <td>2.262</td>\n",
              "    </tr>\n",
              "    <tr>\n",
              "      <th>69</th>\n",
              "      <td>Mongolia</td>\n",
              "      <td>East Asia</td>\n",
              "      <td>5.677</td>\n",
              "      <td>0.042</td>\n",
              "      <td>5.760</td>\n",
              "      <td>5.595</td>\n",
              "      <td>9.400</td>\n",
              "      <td>0.935</td>\n",
              "      <td>62.500</td>\n",
              "      <td>0.708</td>\n",
              "      <td>0.116</td>\n",
              "      <td>0.856</td>\n",
              "      <td>2.43</td>\n",
              "      <td>0.966</td>\n",
              "      <td>1.065</td>\n",
              "      <td>0.442</td>\n",
              "      <td>0.397</td>\n",
              "      <td>0.263</td>\n",
              "      <td>0.053</td>\n",
              "      <td>2.492</td>\n",
              "    </tr>\n",
              "    <tr>\n",
              "      <th>76</th>\n",
              "      <td>Hong Kong S.A.R. of China</td>\n",
              "      <td>East Asia</td>\n",
              "      <td>5.477</td>\n",
              "      <td>0.049</td>\n",
              "      <td>5.573</td>\n",
              "      <td>5.380</td>\n",
              "      <td>11.000</td>\n",
              "      <td>0.836</td>\n",
              "      <td>76.820</td>\n",
              "      <td>0.717</td>\n",
              "      <td>0.067</td>\n",
              "      <td>0.403</td>\n",
              "      <td>2.43</td>\n",
              "      <td>1.525</td>\n",
              "      <td>0.841</td>\n",
              "      <td>0.893</td>\n",
              "      <td>0.408</td>\n",
              "      <td>0.232</td>\n",
              "      <td>0.342</td>\n",
              "      <td>1.236</td>\n",
              "    </tr>\n",
              "    <tr>\n",
              "      <th>83</th>\n",
              "      <td>China</td>\n",
              "      <td>East Asia</td>\n",
              "      <td>5.339</td>\n",
              "      <td>0.029</td>\n",
              "      <td>5.397</td>\n",
              "      <td>5.281</td>\n",
              "      <td>9.673</td>\n",
              "      <td>0.811</td>\n",
              "      <td>69.593</td>\n",
              "      <td>0.904</td>\n",
              "      <td>-0.146</td>\n",
              "      <td>0.755</td>\n",
              "      <td>2.43</td>\n",
              "      <td>1.061</td>\n",
              "      <td>0.785</td>\n",
              "      <td>0.665</td>\n",
              "      <td>0.636</td>\n",
              "      <td>0.093</td>\n",
              "      <td>0.117</td>\n",
              "      <td>1.982</td>\n",
              "    </tr>\n",
              "  </tbody>\n",
              "</table>\n",
              "</div>"
            ],
            "text/plain": [
              "                 Country name  ... Dystopia + residual\n",
              "23   Taiwan Province of China  ...               2.687\n",
              "55                      Japan  ...               2.048\n",
              "61                South Korea  ...               2.262\n",
              "69                   Mongolia  ...               2.492\n",
              "76  Hong Kong S.A.R. of China  ...               1.236\n",
              "83                      China  ...               1.982\n",
              "\n",
              "[6 rows x 20 columns]"
            ]
          },
          "metadata": {
            "tags": []
          },
          "execution_count": 49
        }
      ]
    },
    {
      "cell_type": "code",
      "metadata": {
        "colab": {
          "base_uri": "https://localhost:8080/"
        },
        "id": "kCC0XwtLXx7T",
        "outputId": "9208f690-10de-4200-ea48-c257995462ed"
      },
      "source": [
        "#행복지수 분석\n",
        "hp_report21['Ladder score'].describe()"
      ],
      "execution_count": null,
      "outputs": [
        {
          "output_type": "execute_result",
          "data": {
            "text/plain": [
              "count    149.000000\n",
              "mean       5.532839\n",
              "std        1.073924\n",
              "min        2.523000\n",
              "25%        4.852000\n",
              "50%        5.534000\n",
              "75%        6.255000\n",
              "max        7.842000\n",
              "Name: Ladder score, dtype: float64"
            ]
          },
          "metadata": {
            "tags": []
          },
          "execution_count": 50
        }
      ]
    },
    {
      "cell_type": "code",
      "metadata": {
        "colab": {
          "base_uri": "https://localhost:8080/",
          "height": 340
        },
        "id": "w57vRZ-Jkqdz",
        "outputId": "d5d5ee55-c2ec-43d5-9cdb-ad9d5856f6c3"
      },
      "source": [
        "#대륙별 행복지수\n",
        "hp_WE=hp_report21[hp_report21['Regional indicator']=='Western Europe']\n",
        "hp_SSA=hp_report21[hp_report21['Regional indicator']=='Sub-Saharan Africa']\n",
        "hp_SEA=hp_report21[hp_report21['Regional indicator']=='Southeast Asia']\n",
        "hp_SA=hp_report21[hp_report21['Regional indicator']=='South Asia']\n",
        "hp_NA=hp_report21[hp_report21['Regional indicator']=='North America and ANZ']\n",
        "hp_MENA=hp_report21[hp_report21['Regional indicator']=='Middle East and North Africa']\n",
        "hp_LAC=hp_report21[hp_report21['Regional indicator']=='Latin America and Caribbean']\n",
        "hp_EA=hp_report21[hp_report21['Regional indicator']=='East Asia']\n",
        "hp_CIS=hp_report21[hp_report21['Regional indicator']=='Commonwealth of Independent States']\n",
        "hp_CEE=hp_report21[hp_report21['Regional indicator']=='Central and Eastern Europe']\n",
        "\n",
        "Fl = 'Freedom to make life choices'\n",
        "Hle = 'Healthy life expectancy'\n",
        "Pc = 'Perceptions of corruption'\n",
        "\n",
        "pd.DataFrame({\n",
        "    '행복 지수 평균' : [hp_WE['Ladder score'].mean(), hp_SSA['Ladder score'].mean(), hp_SEA['Ladder score'].mean(), hp_SA['Ladder score'].mean(), hp_NA['Ladder score'].mean(), hp_MENA['Ladder score'].mean(), \n",
        "                 hp_LAC['Ladder score'].mean(), hp_EA['Ladder score'].mean(), hp_CIS['Ladder score'].mean(), hp_CEE['Ladder score'].mean()],\n",
        "    '1인당 GDP' :[hp_WE['Logged GDP per capita'].mean(), hp_SSA['Logged GDP per capita'].mean(), hp_SEA['Logged GDP per capita'].mean(), hp_SA['Logged GDP per capita'].mean(), hp_NA['Logged GDP per capita'].mean(), \n",
        "                              hp_MENA['Logged GDP per capita'].mean(), hp_LAC['Logged GDP per capita'].mean(), hp_EA['Logged GDP per capita'].mean(), hp_CIS['Logged GDP per capita'].mean(), hp_CEE['Logged GDP per capita'].mean()],\n",
        "    '삶의 자유' : [hp_WE[Fl].mean(), hp_SSA[Fl].mean(), hp_SEA[Fl].mean(), hp_SA[Fl].mean(), hp_NA[Fl].mean(), hp_MENA[Fl].mean(), hp_LAC[Fl].mean(), \n",
        "                                      hp_EA[Fl].mean(), hp_CIS[Fl].mean(), hp_CEE[Fl].mean()],\n",
        "    '기대 건강수명' :  [hp_WE[Hle].mean(), hp_SSA[Hle].mean(), hp_SEA[Hle].mean(), hp_SA[Hle].mean(), hp_NA[Hle].mean(), hp_MENA[Hle].mean(), hp_LAC[Hle].mean(), \n",
        "                                      hp_EA[Hle].mean(), hp_CIS[Hle].mean(), hp_CEE[Hle].mean()],\n",
        "    '부패인식' :  [hp_WE[Pc].mean(), hp_SSA[Pc].mean(), hp_SEA[Pc].mean(), hp_SA[Pc].mean(), hp_NA[Pc].mean(), hp_MENA[Pc].mean(), hp_LAC[Pc].mean(), \n",
        "                                      hp_EA[Pc].mean(), hp_CIS[Pc].mean(), hp_CEE[Pc].mean()],\n",
        "    }\n",
        "    ,index=['Western Europe', 'Sub-Saharan Africa', 'Southeast Asia', 'South Asia', 'North America and ANZ', 'Middle East and North Africa', \n",
        "            'Latin America and Caribbean',  'East Asia', 'Commonwealth of Independent States', 'Central and Eastern Europe'])\n",
        "\n",
        "   \n"
      ],
      "execution_count": null,
      "outputs": [
        {
          "output_type": "execute_result",
          "data": {
            "text/html": [
              "<div>\n",
              "<style scoped>\n",
              "    .dataframe tbody tr th:only-of-type {\n",
              "        vertical-align: middle;\n",
              "    }\n",
              "\n",
              "    .dataframe tbody tr th {\n",
              "        vertical-align: top;\n",
              "    }\n",
              "\n",
              "    .dataframe thead th {\n",
              "        text-align: right;\n",
              "    }\n",
              "</style>\n",
              "<table border=\"1\" class=\"dataframe\">\n",
              "  <thead>\n",
              "    <tr style=\"text-align: right;\">\n",
              "      <th></th>\n",
              "      <th>행복 지수 평균</th>\n",
              "      <th>1인당 GDP</th>\n",
              "      <th>삶의 자유</th>\n",
              "      <th>기대 건강수명</th>\n",
              "      <th>부패인식</th>\n",
              "    </tr>\n",
              "  </thead>\n",
              "  <tbody>\n",
              "    <tr>\n",
              "      <th>Western Europe</th>\n",
              "      <td>6.914905</td>\n",
              "      <td>10.822714</td>\n",
              "      <td>0.858714</td>\n",
              "      <td>73.033095</td>\n",
              "      <td>0.523095</td>\n",
              "    </tr>\n",
              "    <tr>\n",
              "      <th>Sub-Saharan Africa</th>\n",
              "      <td>4.494472</td>\n",
              "      <td>8.075194</td>\n",
              "      <td>0.723194</td>\n",
              "      <td>55.886472</td>\n",
              "      <td>0.765944</td>\n",
              "    </tr>\n",
              "    <tr>\n",
              "      <th>Southeast Asia</th>\n",
              "      <td>5.407556</td>\n",
              "      <td>9.421444</td>\n",
              "      <td>0.909000</td>\n",
              "      <td>64.888444</td>\n",
              "      <td>0.709111</td>\n",
              "    </tr>\n",
              "    <tr>\n",
              "      <th>South Asia</th>\n",
              "      <td>4.441857</td>\n",
              "      <td>8.682571</td>\n",
              "      <td>0.765000</td>\n",
              "      <td>62.681000</td>\n",
              "      <td>0.797429</td>\n",
              "    </tr>\n",
              "    <tr>\n",
              "      <th>North America and ANZ</th>\n",
              "      <td>7.128500</td>\n",
              "      <td>10.809500</td>\n",
              "      <td>0.898750</td>\n",
              "      <td>72.325000</td>\n",
              "      <td>0.449250</td>\n",
              "    </tr>\n",
              "    <tr>\n",
              "      <th>Middle East and North Africa</th>\n",
              "      <td>5.219765</td>\n",
              "      <td>9.666118</td>\n",
              "      <td>0.716471</td>\n",
              "      <td>65.609118</td>\n",
              "      <td>0.762235</td>\n",
              "    </tr>\n",
              "    <tr>\n",
              "      <th>Latin America and Caribbean</th>\n",
              "      <td>5.908050</td>\n",
              "      <td>9.370000</td>\n",
              "      <td>0.831750</td>\n",
              "      <td>67.076050</td>\n",
              "      <td>0.792600</td>\n",
              "    </tr>\n",
              "    <tr>\n",
              "      <th>East Asia</th>\n",
              "      <td>5.810333</td>\n",
              "      <td>10.367667</td>\n",
              "      <td>0.763500</td>\n",
              "      <td>71.252167</td>\n",
              "      <td>0.683333</td>\n",
              "    </tr>\n",
              "    <tr>\n",
              "      <th>Commonwealth of Independent States</th>\n",
              "      <td>5.467000</td>\n",
              "      <td>9.401833</td>\n",
              "      <td>0.816917</td>\n",
              "      <td>65.009500</td>\n",
              "      <td>0.725083</td>\n",
              "    </tr>\n",
              "    <tr>\n",
              "      <th>Central and Eastern Europe</th>\n",
              "      <td>5.984765</td>\n",
              "      <td>10.109059</td>\n",
              "      <td>0.797059</td>\n",
              "      <td>68.338412</td>\n",
              "      <td>0.850529</td>\n",
              "    </tr>\n",
              "  </tbody>\n",
              "</table>\n",
              "</div>"
            ],
            "text/plain": [
              "                                    행복 지수 평균    1인당 GDP  ...    기대 건강수명      부패인식\n",
              "Western Europe                      6.914905  10.822714  ...  73.033095  0.523095\n",
              "Sub-Saharan Africa                  4.494472   8.075194  ...  55.886472  0.765944\n",
              "Southeast Asia                      5.407556   9.421444  ...  64.888444  0.709111\n",
              "South Asia                          4.441857   8.682571  ...  62.681000  0.797429\n",
              "North America and ANZ               7.128500  10.809500  ...  72.325000  0.449250\n",
              "Middle East and North Africa        5.219765   9.666118  ...  65.609118  0.762235\n",
              "Latin America and Caribbean         5.908050   9.370000  ...  67.076050  0.792600\n",
              "East Asia                           5.810333  10.367667  ...  71.252167  0.683333\n",
              "Commonwealth of Independent States  5.467000   9.401833  ...  65.009500  0.725083\n",
              "Central and Eastern Europe          5.984765  10.109059  ...  68.338412  0.850529\n",
              "\n",
              "[10 rows x 5 columns]"
            ]
          },
          "metadata": {
            "tags": []
          },
          "execution_count": 51
        }
      ]
    },
    {
      "cell_type": "markdown",
      "metadata": {
        "id": "y-BuTIgT_S6x"
      },
      "source": [
        "#### 그래프를 활용하여 분석하기"
      ]
    },
    {
      "cell_type": "code",
      "metadata": {
        "id": "tGNTKLVx_S6x"
      },
      "source": [
        "# matplotlib, seaborn 등 활용"
      ],
      "execution_count": null,
      "outputs": []
    },
    {
      "cell_type": "code",
      "metadata": {
        "id": "DkfMDYDn0kyk"
      },
      "source": [
        "import matplotlib.pyplot as plt\n",
        "\n",
        "plt.rc('font', family='Malgun Gothic')"
      ],
      "execution_count": null,
      "outputs": []
    },
    {
      "cell_type": "code",
      "metadata": {
        "colab": {
          "base_uri": "https://localhost:8080/",
          "height": 265
        },
        "id": "AWTFpK8KClQJ",
        "outputId": "07de4efd-70df-4434-95ef-cdbca8e58cae"
      },
      "source": [
        "#대륙 별 행복 지수 평균(표로 알아보았지만 그래프를 활용하여 한 눈에 알아보자)\n",
        "aver = [hp_report21[hp_report21['Regional indicator']=='Western Europe']['Ladder score'].mean(),\n",
        "    hp_report21[hp_report21['Regional indicator']=='Sub-Saharan Africa']['Ladder score'].mean(),\n",
        "    hp_report21[hp_report21['Regional indicator']=='Southeast Asia']['Ladder score'].mean(),\n",
        "    hp_report21[hp_report21['Regional indicator']=='South Asia']['Ladder score'].mean(),\n",
        "    hp_report21[hp_report21['Regional indicator']=='North America and ANZ']['Ladder score'].mean(),\n",
        "    hp_report21[hp_report21['Regional indicator']=='Middle East and North Africa']['Ladder score'].mean(),\n",
        "    hp_report21[hp_report21['Regional indicator']=='Latin America and Caribbean']['Ladder score'].mean(),\n",
        "    hp_report21[hp_report21['Regional indicator']=='East Asia']['Ladder score'].mean(),\n",
        "    hp_report21[hp_report21['Regional indicator']=='Commonwealth of Independent States']['Ladder score'].mean(),\n",
        "    hp_report21[hp_report21['Regional indicator']=='Central and Eastern Europe']['Ladder score'].mean()]\n",
        "     \n",
        "Continent = ['Western Europe', 'Sub-Saharan Africa', 'Southeast Asia', 'South Asia', 'North America and ANZ', 'Middle East and North Africa', 'Latin America and Caribbean',  'East Asia', 'Commonwealth of Independent States', 'Central and Eastern Europe']\n",
        "\n",
        "plt.barh(range(10), aver, height=0.5)\n",
        "plt.yticks(range(10), Continent)\n",
        "plt.xticks([4,5,6,7])\n",
        "plt.grid(True)\n",
        "plt.show()"
      ],
      "execution_count": null,
      "outputs": [
        {
          "output_type": "display_data",
          "data": {
            "image/png": "[encoded data removed]",
            "text/plain": [
              "<Figure size 432x288 with 1 Axes>"
            ]
          },
          "metadata": {
            "tags": [],
            "needs_background": "light"
          }
        }
      ]
    },
    {
      "cell_type": "markdown",
      "metadata": {
        "id": "leKYN3ls4OSH"
      },
      "source": [
        "# **행복과 1인당 gdp의 관계**\n",
        "\n",
        "1인당 gdp와 행복의 관계를 확인해보자\n",
        "\n",
        "x축은 국가별 1인당 gdp, y축은 국가별 행복지수를 나타낸다.\n",
        "\n",
        "이 산점도가 양의 선형 관계를 보여주고 있으므로 \n",
        "1인당 gdp가 높을 수록 행복 지수가 높다는 것을 확인 할 수 있다.\n",
        "\n",
        "**즉, 1인당 gdp가 높은 나라라면 그 나라의 국민들은 행복할 가능성이 높다.**"
      ]
    },
    {
      "cell_type": "code",
      "metadata": {
        "colab": {
          "base_uri": "https://localhost:8080/",
          "height": 265
        },
        "id": "nG6h02lW5f4J",
        "outputId": "67713deb-3afe-4cfd-ddf9-ce1cb1e687dc"
      },
      "source": [
        "#1인당 gdp와 행복의 관계\n",
        "x = hp_report21['Logged GDP per capita']\n",
        "y = hp_report21['Ladder score']\n",
        "\n",
        "plt.scatter(x, y, alpha=0.7)\n",
        "plt.show()"
      ],
      "execution_count": null,
      "outputs": [
        {
          "output_type": "display_data",
          "data": {
            "image/png": "[encoded data removed]",
            "text/plain": [
              "<Figure size 432x288 with 1 Axes>"
            ]
          },
          "metadata": {
            "tags": [],
            "needs_background": "light"
          }
        }
      ]
    },
    {
      "cell_type": "markdown",
      "metadata": {
        "id": "YAg2pOSr5nfW"
      },
      "source": [
        "#**행복과 삶의 선택의 자유(자유로운 삶)의 관계**\n",
        "\n",
        "만약 누군가가 시키거나 국가가 제한하는 범위에서만 생활을 해야한다면 행복할 수 있을까?\n",
        "\n",
        "이 데이터의 결과를 확인해야 하나 싶지만 확인해보자!\n",
        "\n",
        "데이터가 많이 산발적이기는 하지만 집중적으로 몰려있는 곳들을 확인한다면 양의 선형 관계를 확인 할 수 있다.\n",
        "\n",
        "따라서 삶의 선택의 자유가 클 수록 행복하다고 할 수 있다.\n"
      ]
    },
    {
      "cell_type": "code",
      "metadata": {
        "colab": {
          "base_uri": "https://localhost:8080/",
          "height": 265
        },
        "id": "aOafi9Hz8IZm",
        "outputId": "cb8da329-f730-4b85-aef2-aad1057204a5"
      },
      "source": [
        "#삶의 선택의 자유와 행복의 관계\n",
        "x = hp_report21['Freedom to make life choices']\n",
        "y = hp_report21['Ladder score']\n",
        "\n",
        "plt.scatter(x, y, alpha=0.7)\n",
        "plt.show()"
      ],
      "execution_count": null,
      "outputs": [
        {
          "output_type": "display_data",
          "data": {
            "image/png": "[encoded data removed]",
            "text/plain": [
              "<Figure size 432x288 with 1 Axes>"
            ]
          },
          "metadata": {
            "tags": [],
            "needs_background": "light"
          }
        }
      ]
    },
    {
      "cell_type": "markdown",
      "metadata": {
        "id": "CsSI0BcnJXZI"
      },
      "source": [
        "# **행복과 건강 수명의 관계**\n",
        "\n",
        "x축은 건강 수명(건강하게 생산적으로 살아갈 수 있을거라 기대되는 기간), y축은 행복지수 이다.\n",
        "\n",
        "이 산점도가 양의 선형 관계를 보여주고 있으므로 건강 수명이 높을 수록 행복 지수가 높다는 것을 확인 할 수 있다."
      ]
    },
    {
      "cell_type": "code",
      "metadata": {
        "colab": {
          "base_uri": "https://localhost:8080/",
          "height": 265
        },
        "id": "k4LA0dzGkZrm",
        "outputId": "58930797-f4f6-403b-d740-099802a5edb8"
      },
      "source": [
        "#행복과 건강수명의 관계\n",
        "x = hp_report21['Healthy life expectancy']\n",
        "y = hp_report21['Ladder score']\n",
        "\n",
        "plt.scatter(x, y, alpha=0.7)\n",
        "plt.show()"
      ],
      "execution_count": null,
      "outputs": [
        {
          "output_type": "display_data",
          "data": {
            "image/png": "[encoded data removed]",
            "text/plain": [
              "<Figure size 432x288 with 1 Axes>"
            ]
          },
          "metadata": {
            "tags": [],
            "needs_background": "light"
          }
        }
      ]
    },
    {
      "cell_type": "markdown",
      "metadata": {
        "id": "Pgm6_J0y_GcN"
      },
      "source": [
        "# **행복과 부패 인식의 관계**\n",
        "\n",
        "행복과 부패인식의 상관 관계를 확인해보자\n",
        "\n",
        "x축은 부패인식도(클수록 부패하였다고 인식), y축은 행복도이다\n",
        "\n",
        "이 산점도가 음의 선형 관계를 보여주고 있으므로 부패 인식이 낮을 수록 행복지수가 큰 것을 확인 할 수 있다.\n",
        "\n",
        "즉, 국가가 부패하지 않았다고 생각할 수록 행복하다는 것을 확인할 수 있다."
      ]
    },
    {
      "cell_type": "code",
      "metadata": {
        "colab": {
          "base_uri": "https://localhost:8080/",
          "height": 265
        },
        "id": "9CexZCTYAqmN",
        "outputId": "4f147467-cd5f-4fc9-8be1-7c3461e9fa86"
      },
      "source": [
        "#행복과 부패인식의 관계\n",
        "x = hp_report21['Perceptions of corruption']\n",
        "y = hp_report21['Ladder score']\n",
        "\n",
        "plt.scatter(x, y, alpha=0.7)\n",
        "plt.show()"
      ],
      "execution_count": null,
      "outputs": [
        {
          "output_type": "display_data",
          "data": {
            "image/png": "[encoded data removed]",
            "text/plain": [
              "<Figure size 432x288 with 1 Axes>"
            ]
          },
          "metadata": {
            "tags": [],
            "needs_background": "light"
          }
        }
      ]
    },
    {
      "cell_type": "markdown",
      "metadata": {
        "id": "Hw26GLsV8PgH"
      },
      "source": [
        "## 4. 결론\n",
        "- 질문에 대한 답\n",
        "\n",
        "    행복지수가 가장 높은 국가는 핀란드(7.842)였고 가장 낮은 국가는 아프가니스탄(2.523)이다.\n",
        "\n",
        "    우리나라의 행복지수는 5.845이며 이 수치는 전세계 백분률 50% (5.534)보다 살짝 높은 수치이며 75%(6.255)에는 미치지 못했으며 우리나라가 속해있는 동아시아(대한민국, 몽골, 중국, 일본, 대만, 홍콩) 평균(5.810)을 겨우 넘었다. 동아시아에서는 중국이 5.339로 가장 낮았으며, 일본이 5.94로 가장 높았다.\n",
        "\n",
        "    행복에 영향을 미치는 요인으로 1인당 gdp, 삶의 자유, 건강 수명, 부패인식을 들수있을 것 같다. 1인당 gdp와 삶의 자유도, 건강 수명이 높을 수록, 부패 인식률이 낮을 수록 행복하다고 말 할 수 있을 것 같다.\n",
        "\n",
        "    핀란드로 가자!"
      ]
    }
  ]
}